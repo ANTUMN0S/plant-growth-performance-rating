{
 "cells": [
  {
   "cell_type": "markdown",
   "metadata": {},
   "source": [
    "# Fitting a linear regression model\n",
    "\n",
    "## Adding additional rows\n",
    "\n",
    "We start by importing the required libraries and loading the dataframes created from our segmentation masks. In my case I load 3 dataframe, because the data was originally split that way to train a CNN, but you could also load all data from one dataframe."
   ]
  },
  {
   "cell_type": "code",
   "execution_count": 1,
   "metadata": {},
   "outputs": [],
   "source": [
    "import pandas as pd\n",
    "\n",
    "#load all dataframes and concatenate them\n",
    "sam_train = pd.read_csv('path/to/sam_train_df.csv')\n",
    "sam_val = pd.read_csv('path/to/sam_val_df.csv')\n",
    "sam_test = pd.read_csv('path/to/sam_test_df.csv')\n",
    "df_total = pd.concat([sam_train, sam_val, sam_test], ignore_index= True)\n",
    "\n",
    "# load weight df to add weight column\n",
    "df_weight = pd.read_csv('path/to/plant_weights.csv')\n",
    "df_total_weight = pd.merge(df_total, df_weight, on=['Week', 'Plant'], how='left')\n",
    "\n",
    "# add the pixel-ratio to the df\n",
    "df_total_weight['pixel_ratio'] = [32/i for i in df_total_weight['Pot_Diameter']]\n",
    "\n",
    "# calculate the plant area in cm², using the pixel area\n",
    "df_total_weight['plant_area'] = df_total_weight['Plant_Pixels'] * df_total_weight['pixel_ratio'] * df_total_weight['pixel_ratio']\n",
    "\n",
    "# save the modified dataframes\n",
    "df_total_weight.to_csv('/path/to/sam_total_weight.csv')"
   ]
  },
  {
   "cell_type": "markdown",
   "metadata": {},
   "source": [
    "## Loading the completed dataframe\n",
    "Now we load the dataframe again, so you can skip the first step, if you run the script repeatedly."
   ]
  },
  {
   "cell_type": "code",
   "execution_count": 2,
   "metadata": {},
   "outputs": [],
   "source": [
    "import pandas as pd\n",
    "import numpy as np\n",
    "from sklearn.linear_model import LinearRegression\n",
    "from sklearn.model_selection import train_test_split\n",
    "from sklearn.metrics import mean_squared_error, r2_score\n",
    "import joblib"
   ]
  },
  {
   "cell_type": "code",
   "execution_count": 3,
   "metadata": {},
   "outputs": [],
   "source": [
    "# load the new dataframe\n",
    "df_blank = pd.read_csv('/path/to/sam_total_weight.csv', index_col=0)"
   ]
  },
  {
   "cell_type": "markdown",
   "metadata": {},
   "source": [
    "## Fitting the model\n",
    "\n",
    "I determined 3 Variables that could make sense to fit to a linear regression model that predicts the plant weight. The plant_area variable is used as the base variable, with the camera angle \"Angle\" and the plant age \"Week\" as potential additional variables. In order to determine if these variablesn increase performance, we create 4 linear regression models (Base, Base + Week, Base + Angle, and Base + Both) and compare them.\n",
    "\n",
    "### Variant 1, base model\n",
    "#### Setting up the model"
   ]
  },
  {
   "cell_type": "code",
   "execution_count": 4,
   "metadata": {},
   "outputs": [],
   "source": [
    "df = df_blank.copy()\n",
    "# split each df into \"train\" and \"val\"\n",
    "random_seed = 6\n",
    "train, test = train_test_split(df, test_size= 0.2, random_state= random_seed)\n",
    "\n",
    "# perform linear regression on df_train\n",
    "X1 = ['plant_area']\n",
    "X = train[X1]\n",
    "y = train['Weight']\n",
    "\n",
    "regression_model = LinearRegression()\n",
    "regression_model.fit(X,y)\n",
    "\n",
    "# save the model\n",
    "#joblib.dump(regression_model, 'sam_lr_model.joblib')\n",
    "\n",
    "# predict the weights for both train and val, to asses overfitting later on\n",
    "test['predicted_weights'] = regression_model.predict(test[X1])\n",
    "train['predicted_weights'] = regression_model.predict(train[X1])\n",
    "\n",
    "# compute differences\n",
    "# Compute the absolute differences\n",
    "train['Absolute_Difference'] = abs(train['Weight'] - train['predicted_weights'])\n",
    "test['Absolute_Difference'] = abs(test['Weight'] - test['predicted_weights'])\n",
    "\n",
    "# Compute the squared differences\n",
    "train['Squared_Difference'] = (train['Weight'] - train['predicted_weights']) ** 2\n",
    "test['Squared_Difference'] = (test['Weight'] - test['predicted_weights']) ** 2\n",
    "\n",
    "# You can also compute the percentage error if desired\n",
    "train['Percentage_Error'] = (train['Absolute_Difference'] / train['Weight']) * 100\n",
    "test['Percentage_Error'] = (test['Absolute_Difference'] / test['Weight']) * 100\n",
    "\n",
    "test.to_csv('sam_test_predicted.csv', index=False)\n",
    "train.to_csv('sam_train_predicted.csv', index=False)\n",
    "\n"
   ]
  },
  {
   "cell_type": "markdown",
   "metadata": {},
   "source": [
    "#### Measuring performance on training set"
   ]
  },
  {
   "cell_type": "code",
   "execution_count": 5,
   "metadata": {},
   "outputs": [
    {
     "name": "stdout",
     "output_type": "stream",
     "text": [
      "Absolute Difference:\n",
      "mean: 7.3451524140427695\n",
      "median: 5.847600261708539\n",
      "\n",
      "Squared Difference:\n",
      "mean: 173.06115873366824\n",
      "median: 34.194430772441606\n",
      "\n",
      "Percentage Error:\n",
      "mean: 22.84117231669745\n",
      "median: 12.18788201736295\n",
      "\n",
      "RMSE: 13.155271138736298\n",
      "R2: 0.6966460007528668\n"
     ]
    }
   ],
   "source": [
    "# assess performance with different measures\n",
    "mean = train['Absolute_Difference'].mean()\n",
    "median = train['Absolute_Difference'].median()\n",
    "absolute_difference = f'mean: {mean}\\nmedian: {median}'\n",
    "\n",
    "mean = train['Squared_Difference'].mean()\n",
    "median = train['Squared_Difference'].median()\n",
    "squared_difference = f'mean: {mean}\\nmedian: {median}'\n",
    "\n",
    "mean = train['Percentage_Error'].mean()\n",
    "median = train['Percentage_Error'].median()\n",
    "percentage_error = f'mean: {mean}\\nmedian: {median}'\n",
    "\n",
    "print(f'Absolute Difference:\\n{absolute_difference}\\n\\nSquared Difference:\\n{squared_difference}\\n\\nPercentage Error:\\n{percentage_error}')\n",
    "\n",
    "train_rmse = mean_squared_error(y, train['predicted_weights'], squared=False)\n",
    "train_r2 = r2_score(y, train['predicted_weights'])\n",
    "\n",
    "print(f\"\\nRMSE: {train_rmse}\\nR2: {train_r2}\")"
   ]
  },
  {
   "cell_type": "markdown",
   "metadata": {},
   "source": [
    "#### Measuring performance on testing set"
   ]
  },
  {
   "cell_type": "code",
   "execution_count": 6,
   "metadata": {},
   "outputs": [
    {
     "name": "stdout",
     "output_type": "stream",
     "text": [
      "Absolute Difference:\n",
      "mean: 7.125439035676194\n",
      "median: 5.846551793583245\n",
      "\n",
      "Squared Difference:\n",
      "mean: 131.47466777552006\n",
      "median: 34.182209349719365\n",
      "\n",
      "Percentage Error:\n",
      "mean: 21.07979988652215\n",
      "median: 12.326802952326553\n",
      "\n",
      "RMSE: 11.466240350503737\n",
      "R2: 0.773149808715826\n"
     ]
    }
   ],
   "source": [
    "# plot the results\n",
    "mean = test['Absolute_Difference'].mean()\n",
    "median = test['Absolute_Difference'].median()\n",
    "absolute_difference = f'mean: {mean}\\nmedian: {median}'\n",
    "\n",
    "mean = test['Squared_Difference'].mean()\n",
    "median = test['Squared_Difference'].median()\n",
    "squared_difference = f'mean: {mean}\\nmedian: {median}'\n",
    "\n",
    "mean = test['Percentage_Error'].mean()\n",
    "median = test['Percentage_Error'].median()\n",
    "percentage_error = f'mean: {mean}\\nmedian: {median}'\n",
    "\n",
    "print(f'Absolute Difference:\\n{absolute_difference}\\n\\nSquared Difference:\\n{squared_difference}\\n\\nPercentage Error:\\n{percentage_error}')\n",
    "\n",
    "test_rmse = mean_squared_error(test['Weight'], test['predicted_weights'], squared=False)\n",
    "test_r2 = r2_score(test['Weight'], test['predicted_weights'])\n",
    "\n",
    "print(f\"\\nRMSE: {test_rmse}\\nR2: {test_r2}\")"
   ]
  },
  {
   "cell_type": "markdown",
   "metadata": {},
   "source": [
    "### Variant 2, base model + Angle\n",
    "#### Setting up the model"
   ]
  },
  {
   "cell_type": "code",
   "execution_count": 7,
   "metadata": {},
   "outputs": [],
   "source": [
    "df = df_blank.copy()\n",
    "# split each df into \"train\" and \"val\"\n",
    "random_seed = 6\n",
    "train, test = train_test_split(df, test_size= 0.2, random_state= random_seed)\n",
    "\n",
    "# perform linear regression on df_train\n",
    "X1 = ['plant_area', 'Angle']\n",
    "X = train[X1]\n",
    "y = train['Weight']\n",
    "\n",
    "regression_model = LinearRegression()\n",
    "regression_model.fit(X,y)\n",
    "\n",
    "# save the model\n",
    "# joblib.dump(regression_model, 'sam_lr_model.joblib')\n",
    "\n",
    "# predict the weights for both train and val, to asses overfitting later on\n",
    "test['predicted_weights'] = regression_model.predict(test[X1])\n",
    "train['predicted_weights'] = regression_model.predict(train[X1])\n",
    "\n",
    "# compute differences\n",
    "# Compute the absolute differences\n",
    "train['Absolute_Difference'] = abs(train['Weight'] - train['predicted_weights'])\n",
    "test['Absolute_Difference'] = abs(test['Weight'] - test['predicted_weights'])\n",
    "\n",
    "# Compute the squared differences\n",
    "train['Squared_Difference'] = (train['Weight'] - train['predicted_weights']) ** 2\n",
    "test['Squared_Difference'] = (test['Weight'] - test['predicted_weights']) ** 2\n",
    "\n",
    "# You can also compute the percentage error if desired\n",
    "train['Percentage_Error'] = (train['Absolute_Difference'] / train['Weight']) * 100\n",
    "test['Percentage_Error'] = (test['Absolute_Difference'] / test['Weight']) * 100\n",
    "\n",
    "test.to_csv('sam_test_predicted.csv', index=False)\n",
    "train.to_csv('sam_train_predicted.csv', index=False)\n",
    "\n"
   ]
  },
  {
   "cell_type": "markdown",
   "metadata": {},
   "source": [
    "#### Measuring performance on training set"
   ]
  },
  {
   "cell_type": "code",
   "execution_count": 8,
   "metadata": {},
   "outputs": [
    {
     "name": "stdout",
     "output_type": "stream",
     "text": [
      "Absolute Difference:\n",
      "mean: 7.232718906498344\n",
      "median: 5.744487256869688\n",
      "\n",
      "Squared Difference:\n",
      "mean: 171.34886023070214\n",
      "median: 32.9991343271778\n",
      "\n",
      "Percentage Error:\n",
      "mean: 22.52614149905948\n",
      "median: 12.33065555419158\n",
      "\n",
      "RMSE: 13.090029038573679\n",
      "R2: 0.6996474402588799\n"
     ]
    }
   ],
   "source": [
    "# assess performance with different measures\n",
    "mean = train['Absolute_Difference'].mean()\n",
    "median = train['Absolute_Difference'].median()\n",
    "absolute_difference = f'mean: {mean}\\nmedian: {median}'\n",
    "\n",
    "mean = train['Squared_Difference'].mean()\n",
    "median = train['Squared_Difference'].median()\n",
    "squared_difference = f'mean: {mean}\\nmedian: {median}'\n",
    "\n",
    "mean = train['Percentage_Error'].mean()\n",
    "median = train['Percentage_Error'].median()\n",
    "percentage_error = f'mean: {mean}\\nmedian: {median}'\n",
    "\n",
    "print(f'Absolute Difference:\\n{absolute_difference}\\n\\nSquared Difference:\\n{squared_difference}\\n\\nPercentage Error:\\n{percentage_error}')\n",
    "\n",
    "train_rmse = mean_squared_error(y, train['predicted_weights'], squared=False)\n",
    "train_r2 = r2_score(y, train['predicted_weights'])\n",
    "\n",
    "print(f\"\\nRMSE: {train_rmse}\\nR2: {train_r2}\")"
   ]
  },
  {
   "cell_type": "markdown",
   "metadata": {},
   "source": [
    "#### Measuring performance on testing set"
   ]
  },
  {
   "cell_type": "code",
   "execution_count": 9,
   "metadata": {},
   "outputs": [
    {
     "name": "stdout",
     "output_type": "stream",
     "text": [
      "Absolute Difference:\n",
      "mean: 7.008819449512693\n",
      "median: 5.709488821883291\n",
      "\n",
      "Squared Difference:\n",
      "mean: 128.5987574771839\n",
      "median: 32.59847543467123\n",
      "\n",
      "Percentage Error:\n",
      "mean: 20.700013524462793\n",
      "median: 12.042256887440942\n",
      "\n",
      "RMSE: 11.340139217716153\n",
      "R2: 0.7781119874558977\n"
     ]
    }
   ],
   "source": [
    "# plot the results\n",
    "mean = test['Absolute_Difference'].mean()\n",
    "median = test['Absolute_Difference'].median()\n",
    "absolute_difference = f'mean: {mean}\\nmedian: {median}'\n",
    "\n",
    "mean = test['Squared_Difference'].mean()\n",
    "median = test['Squared_Difference'].median()\n",
    "squared_difference = f'mean: {mean}\\nmedian: {median}'\n",
    "\n",
    "mean = test['Percentage_Error'].mean()\n",
    "median = test['Percentage_Error'].median()\n",
    "percentage_error = f'mean: {mean}\\nmedian: {median}'\n",
    "\n",
    "print(f'Absolute Difference:\\n{absolute_difference}\\n\\nSquared Difference:\\n{squared_difference}\\n\\nPercentage Error:\\n{percentage_error}')\n",
    "\n",
    "test_rmse = mean_squared_error(test['Weight'], test['predicted_weights'], squared=False)\n",
    "test_r2 = r2_score(test['Weight'], test['predicted_weights'])\n",
    "\n",
    "print(f\"\\nRMSE: {test_rmse}\\nR2: {test_r2}\")"
   ]
  },
  {
   "cell_type": "markdown",
   "metadata": {},
   "source": [
    "### Variant 3, base model + Age\n",
    "#### Setting up the model"
   ]
  },
  {
   "cell_type": "code",
   "execution_count": 10,
   "metadata": {},
   "outputs": [],
   "source": [
    "df = df_blank.copy()\n",
    "# split each df into \"train\" and \"val\"\n",
    "random_seed = 6\n",
    "train, test = train_test_split(df, test_size= 0.2, random_state= random_seed)\n",
    "\n",
    "# perform linear regression on df_train\n",
    "X1 = ['plant_area', 'Week']\n",
    "X = train[X1]\n",
    "y = train['Weight']\n",
    "\n",
    "regression_model = LinearRegression()\n",
    "regression_model.fit(X,y)\n",
    "\n",
    "# save the model\n",
    "# joblib.dump(regression_model, 'sam_lr_model.joblib')\n",
    "\n",
    "# predict the weights for both train and val, to asses overfitting later on\n",
    "test['predicted_weights'] = regression_model.predict(test[X1])\n",
    "train['predicted_weights'] = regression_model.predict(train[X1])\n",
    "\n",
    "# compute differences\n",
    "# Compute the absolute differences\n",
    "train['Absolute_Difference'] = abs(train['Weight'] - train['predicted_weights'])\n",
    "test['Absolute_Difference'] = abs(test['Weight'] - test['predicted_weights'])\n",
    "\n",
    "# Compute the squared differences\n",
    "train['Squared_Difference'] = (train['Weight'] - train['predicted_weights']) ** 2\n",
    "test['Squared_Difference'] = (test['Weight'] - test['predicted_weights']) ** 2\n",
    "\n",
    "# You can also compute the percentage error if desired\n",
    "train['Percentage_Error'] = (train['Absolute_Difference'] / train['Weight']) * 100\n",
    "test['Percentage_Error'] = (test['Absolute_Difference'] / test['Weight']) * 100\n",
    "\n",
    "test.to_csv('sam_test_predicted.csv', index=False)\n",
    "train.to_csv('sam_train_predicted.csv', index=False)\n",
    "\n"
   ]
  },
  {
   "cell_type": "markdown",
   "metadata": {},
   "source": [
    "#### Measuring performance on training set"
   ]
  },
  {
   "cell_type": "code",
   "execution_count": 11,
   "metadata": {},
   "outputs": [
    {
     "name": "stdout",
     "output_type": "stream",
     "text": [
      "Absolute Difference:\n",
      "mean: 6.255032104258782\n",
      "median: 4.483706927152122\n",
      "\n",
      "Squared Difference:\n",
      "mean: 94.12183684889308\n",
      "median: 20.10362892733488\n",
      "\n",
      "Percentage Error:\n",
      "mean: 17.548384262067767\n",
      "median: 10.12642317075743\n",
      "\n",
      "RMSE: 9.701640935887758\n",
      "R2: 0.8350165003313178\n"
     ]
    }
   ],
   "source": [
    "# assess performance with different measures\n",
    "mean = train['Absolute_Difference'].mean()\n",
    "median = train['Absolute_Difference'].median()\n",
    "absolute_difference = f'mean: {mean}\\nmedian: {median}'\n",
    "\n",
    "mean = train['Squared_Difference'].mean()\n",
    "median = train['Squared_Difference'].median()\n",
    "squared_difference = f'mean: {mean}\\nmedian: {median}'\n",
    "\n",
    "mean = train['Percentage_Error'].mean()\n",
    "median = train['Percentage_Error'].median()\n",
    "percentage_error = f'mean: {mean}\\nmedian: {median}'\n",
    "\n",
    "print(f'Absolute Difference:\\n{absolute_difference}\\n\\nSquared Difference:\\n{squared_difference}\\n\\nPercentage Error:\\n{percentage_error}')\n",
    "\n",
    "train_rmse = mean_squared_error(y, train['predicted_weights'], squared=False)\n",
    "train_r2 = r2_score(y, train['predicted_weights'])\n",
    "\n",
    "print(f\"\\nRMSE: {train_rmse}\\nR2: {train_r2}\")"
   ]
  },
  {
   "cell_type": "markdown",
   "metadata": {},
   "source": [
    "#### Measuring performance on testing set"
   ]
  },
  {
   "cell_type": "code",
   "execution_count": 12,
   "metadata": {},
   "outputs": [
    {
     "name": "stdout",
     "output_type": "stream",
     "text": [
      "Absolute Difference:\n",
      "mean: 6.210769613488025\n",
      "median: 4.7889789944413295\n",
      "\n",
      "Squared Difference:\n",
      "mean: 81.59977459993128\n",
      "median: 22.934320958893892\n",
      "\n",
      "Percentage Error:\n",
      "mean: 16.688647394261753\n",
      "median: 10.411108083070697\n",
      "\n",
      "RMSE: 9.033259356396853\n",
      "R2: 0.8592053907423028\n"
     ]
    }
   ],
   "source": [
    "# plot the results\n",
    "mean = test['Absolute_Difference'].mean()\n",
    "median = test['Absolute_Difference'].median()\n",
    "absolute_difference = f'mean: {mean}\\nmedian: {median}'\n",
    "\n",
    "mean = test['Squared_Difference'].mean()\n",
    "median = test['Squared_Difference'].median()\n",
    "squared_difference = f'mean: {mean}\\nmedian: {median}'\n",
    "\n",
    "mean = test['Percentage_Error'].mean()\n",
    "median = test['Percentage_Error'].median()\n",
    "percentage_error = f'mean: {mean}\\nmedian: {median}'\n",
    "\n",
    "print(f'Absolute Difference:\\n{absolute_difference}\\n\\nSquared Difference:\\n{squared_difference}\\n\\nPercentage Error:\\n{percentage_error}')\n",
    "\n",
    "test_rmse = mean_squared_error(test['Weight'], test['predicted_weights'], squared=False)\n",
    "test_r2 = r2_score(test['Weight'], test['predicted_weights'])\n",
    "\n",
    "print(f\"\\nRMSE: {test_rmse}\\nR2: {test_r2}\")"
   ]
  },
  {
   "cell_type": "markdown",
   "metadata": {},
   "source": [
    "### Variant 4, base model + Both\n",
    "#### Setting up the model"
   ]
  },
  {
   "cell_type": "code",
   "execution_count": 13,
   "metadata": {},
   "outputs": [],
   "source": [
    "df = df_blank.copy()\n",
    "# split each df into \"train\" and \"val\"\n",
    "random_seed = 6\n",
    "train, test = train_test_split(df, test_size= 0.2, random_state= random_seed)\n",
    "\n",
    "# perform linear regression on df_train\n",
    "X1 = ['plant_area', 'Week', 'Angle']\n",
    "X = train[X1]\n",
    "y = train['Weight']\n",
    "\n",
    "regression_model = LinearRegression()\n",
    "regression_model.fit(X,y)\n",
    "\n",
    "# save the model\n",
    "joblib.dump(regression_model, '../Application/sam_lr_model.joblib')\n",
    "\n",
    "# predict the weights for both train and val, to asses overfitting later on\n",
    "test['predicted_weights'] = regression_model.predict(test[X1])\n",
    "train['predicted_weights'] = regression_model.predict(train[X1])\n",
    "\n",
    "# compute differences\n",
    "# Compute the absolute differences\n",
    "train['Absolute_Difference'] = abs(train['Weight'] - train['predicted_weights'])\n",
    "test['Absolute_Difference'] = abs(test['Weight'] - test['predicted_weights'])\n",
    "\n",
    "# Compute the squared differences\n",
    "train['Squared_Difference'] = (train['Weight'] - train['predicted_weights']) ** 2\n",
    "test['Squared_Difference'] = (test['Weight'] - test['predicted_weights']) ** 2\n",
    "\n",
    "# You can also compute the percentage error if desired\n",
    "train['Percentage_Error'] = (train['Absolute_Difference'] / train['Weight']) * 100\n",
    "test['Percentage_Error'] = (test['Absolute_Difference'] / test['Weight']) * 100\n",
    "\n",
    "test.to_csv('sam_test_predicted.csv', index=False)\n",
    "train.to_csv('sam_train_predicted.csv', index=False)\n",
    "\n"
   ]
  },
  {
   "cell_type": "markdown",
   "metadata": {},
   "source": [
    "#### Measuring performance on training set"
   ]
  },
  {
   "cell_type": "code",
   "execution_count": 14,
   "metadata": {},
   "outputs": [
    {
     "name": "stdout",
     "output_type": "stream",
     "text": [
      "Absolute Difference:\n",
      "mean: 6.17425394268119\n",
      "median: 4.396182074333936\n",
      "\n",
      "Squared Difference:\n",
      "mean: 93.59724474341316\n",
      "median: 19.32643885920509\n",
      "\n",
      "Percentage Error:\n",
      "mean: 17.25772797651889\n",
      "median: 9.789008129837226\n",
      "\n",
      "RMSE: 9.674566902110563\n",
      "R2: 0.8359360429619997\n"
     ]
    }
   ],
   "source": [
    "# assess performance with different measures\n",
    "mean = train['Absolute_Difference'].mean()\n",
    "median = train['Absolute_Difference'].median()\n",
    "absolute_difference = f'mean: {mean}\\nmedian: {median}'\n",
    "\n",
    "mean = train['Squared_Difference'].mean()\n",
    "median = train['Squared_Difference'].median()\n",
    "squared_difference = f'mean: {mean}\\nmedian: {median}'\n",
    "\n",
    "mean = train['Percentage_Error'].mean()\n",
    "median = train['Percentage_Error'].median()\n",
    "percentage_error = f'mean: {mean}\\nmedian: {median}'\n",
    "\n",
    "print(f'Absolute Difference:\\n{absolute_difference}\\n\\nSquared Difference:\\n{squared_difference}\\n\\nPercentage Error:\\n{percentage_error}')\n",
    "\n",
    "train_rmse = mean_squared_error(y, train['predicted_weights'], squared=False)\n",
    "train_r2 = r2_score(y, train['predicted_weights'])\n",
    "\n",
    "print(f\"\\nRMSE: {train_rmse}\\nR2: {train_r2}\")"
   ]
  },
  {
   "cell_type": "markdown",
   "metadata": {},
   "source": [
    "#### Measuring performance on testing set"
   ]
  },
  {
   "cell_type": "code",
   "execution_count": 15,
   "metadata": {},
   "outputs": [
    {
     "name": "stdout",
     "output_type": "stream",
     "text": [
      "Absolute Difference:\n",
      "mean: 6.13358936701372\n",
      "median: 4.71827398146389\n",
      "\n",
      "Squared Difference:\n",
      "mean: 80.58171893855548\n",
      "median: 22.26214204417786\n",
      "\n",
      "Percentage Error:\n",
      "mean: 16.404741064366082\n",
      "median: 10.059665684281832\n",
      "\n",
      "RMSE: 8.976732085706661\n",
      "R2: 0.8609619734013696\n"
     ]
    }
   ],
   "source": [
    "# plot the results\n",
    "mean = test['Absolute_Difference'].mean()\n",
    "median = test['Absolute_Difference'].median()\n",
    "absolute_difference = f'mean: {mean}\\nmedian: {median}'\n",
    "\n",
    "mean = test['Squared_Difference'].mean()\n",
    "median = test['Squared_Difference'].median()\n",
    "squared_difference = f'mean: {mean}\\nmedian: {median}'\n",
    "\n",
    "mean = test['Percentage_Error'].mean()\n",
    "median = test['Percentage_Error'].median()\n",
    "percentage_error = f'mean: {mean}\\nmedian: {median}'\n",
    "\n",
    "print(f'Absolute Difference:\\n{absolute_difference}\\n\\nSquared Difference:\\n{squared_difference}\\n\\nPercentage Error:\\n{percentage_error}')\n",
    "\n",
    "test_rmse = mean_squared_error(test['Weight'], test['predicted_weights'], squared=False)\n",
    "test_r2 = r2_score(test['Weight'], test['predicted_weights'])\n",
    "\n",
    "print(f\"\\nRMSE: {test_rmse}\\nR2: {test_r2}\")"
   ]
  },
  {
   "cell_type": "markdown",
   "metadata": {},
   "source": [
    "#### Selecting the final model\n",
    "From these different models, we can see that for all of the variants, the training and testing data seem to perform similarly, with the differences being less pronounced in variants 3 and 4, this suggests that the model generalizes well on unseen data.\n",
    "Performance wise, variant 4 delivers the best values, while variant 3 is not far behind. Variant 1 has the lowest performance, with variant 2 improving only slightly. The jump from variant 2 to variant 3 is more significant, suggesting that, in combination with the base variable \"plant_area\", the age variable \"Week\" is the most important variable to get accurate weight estimations. The camera angle variable \"Angle\" can be used for further improvements.\n",
    "\n",
    "In this specific use case, the camera angle is known for all images and can be extracted from the dataframe, therefore we will continue with variant 4 as our linear regression model. If you don't have known camera angles, I'd suggest using variant 3 for your weight estimation.\n",
    "\n",
    "The next step is optional, but I concatenate the two dataframes back together again and safe them with all the additional data again (also removing an extra column that is in there for some reason)."
   ]
  },
  {
   "cell_type": "code",
   "execution_count": 31,
   "metadata": {},
   "outputs": [],
   "source": [
    "df = pd.concat([train, test], ignore_index=True)\n",
    "df = df.loc[:, ~df.columns.str.contains('^Unnamed')]\n",
    "df.to_csv('/path/to/sam_lr_applied.csv')"
   ]
  }
 ],
 "metadata": {
  "kernelspec": {
   "display_name": "Python 3",
   "language": "python",
   "name": "python3"
  },
  "language_info": {
   "codemirror_mode": {
    "name": "ipython",
    "version": 3
   },
   "file_extension": ".py",
   "mimetype": "text/x-python",
   "name": "python",
   "nbconvert_exporter": "python",
   "pygments_lexer": "ipython3",
   "version": "3.10.6"
  },
  "orig_nbformat": 4
 },
 "nbformat": 4,
 "nbformat_minor": 2
}
